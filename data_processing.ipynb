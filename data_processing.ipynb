{
  "nbformat": 4,
  "nbformat_minor": 0,
  "metadata": {
    "colab": {
      "provenance": []
    },
    "kernelspec": {
      "name": "python3",
      "display_name": "Python 3"
    },
    "language_info": {
      "name": "python"
    }
  },
  "cells": [
    {
      "cell_type": "code",
      "execution_count": 1,
      "metadata": {
        "colab": {
          "base_uri": "https://localhost:8080/"
        },
        "id": "7wdXr_km350T",
        "outputId": "b282d25f-46fb-45b3-dfd2-b1051025585a"
      },
      "outputs": [
        {
          "output_type": "stream",
          "name": "stdout",
          "text": [
            "Looking in indexes: https://pypi.org/simple, https://us-python.pkg.dev/colab-wheels/public/simple/\n",
            "Collecting catboost\n",
            "  Downloading catboost-1.2-cp310-cp310-manylinux2014_x86_64.whl (98.6 MB)\n",
            "\u001b[2K     \u001b[90m━━━━━━━━━━━━━━━━━━━━━━━━━━━━━━━━━━━━━━━━\u001b[0m \u001b[32m98.6/98.6 MB\u001b[0m \u001b[31m7.8 MB/s\u001b[0m eta \u001b[36m0:00:00\u001b[0m\n",
            "\u001b[?25hRequirement already satisfied: graphviz in /usr/local/lib/python3.10/dist-packages (from catboost) (0.20.1)\n",
            "Requirement already satisfied: matplotlib in /usr/local/lib/python3.10/dist-packages (from catboost) (3.7.1)\n",
            "Requirement already satisfied: numpy>=1.16.0 in /usr/local/lib/python3.10/dist-packages (from catboost) (1.22.4)\n",
            "Requirement already satisfied: pandas>=0.24 in /usr/local/lib/python3.10/dist-packages (from catboost) (1.5.3)\n",
            "Requirement already satisfied: scipy in /usr/local/lib/python3.10/dist-packages (from catboost) (1.10.1)\n",
            "Requirement already satisfied: plotly in /usr/local/lib/python3.10/dist-packages (from catboost) (5.13.1)\n",
            "Requirement already satisfied: six in /usr/local/lib/python3.10/dist-packages (from catboost) (1.16.0)\n",
            "Requirement already satisfied: python-dateutil>=2.8.1 in /usr/local/lib/python3.10/dist-packages (from pandas>=0.24->catboost) (2.8.2)\n",
            "Requirement already satisfied: pytz>=2020.1 in /usr/local/lib/python3.10/dist-packages (from pandas>=0.24->catboost) (2022.7.1)\n",
            "Requirement already satisfied: contourpy>=1.0.1 in /usr/local/lib/python3.10/dist-packages (from matplotlib->catboost) (1.0.7)\n",
            "Requirement already satisfied: cycler>=0.10 in /usr/local/lib/python3.10/dist-packages (from matplotlib->catboost) (0.11.0)\n",
            "Requirement already satisfied: fonttools>=4.22.0 in /usr/local/lib/python3.10/dist-packages (from matplotlib->catboost) (4.39.3)\n",
            "Requirement already satisfied: kiwisolver>=1.0.1 in /usr/local/lib/python3.10/dist-packages (from matplotlib->catboost) (1.4.4)\n",
            "Requirement already satisfied: packaging>=20.0 in /usr/local/lib/python3.10/dist-packages (from matplotlib->catboost) (23.1)\n",
            "Requirement already satisfied: pillow>=6.2.0 in /usr/local/lib/python3.10/dist-packages (from matplotlib->catboost) (8.4.0)\n",
            "Requirement already satisfied: pyparsing>=2.3.1 in /usr/local/lib/python3.10/dist-packages (from matplotlib->catboost) (3.0.9)\n",
            "Requirement already satisfied: tenacity>=6.2.0 in /usr/local/lib/python3.10/dist-packages (from plotly->catboost) (8.2.2)\n",
            "Installing collected packages: catboost\n",
            "Successfully installed catboost-1.2\n"
          ]
        }
      ],
      "source": [
        "import pandas as pd\n",
        "from sklearn.feature_extraction.text import CountVectorizer\n",
        "from sklearn.preprocessing import LabelEncoder\n",
        "from nltk.tokenize import TweetTokenizer\n",
        "import matplotlib.pyplot as plt\n",
        "\n",
        "from sklearn.model_selection import train_test_split, GridSearchCV\n",
        "from sklearn.metrics import accuracy_score, precision_score, recall_score, f1_score, classification_report\n",
        "\n",
        "!pip install catboost\n",
        "from catboost import CatBoostClassifier\n",
        "\n",
        "from scipy.stats import mannwhitneyu, ttest_ind"
      ]
    },
    {
      "cell_type": "markdown",
      "source": [
        "# Обработка данных"
      ],
      "metadata": {
        "id": "SnLXrOgG7EEA"
      }
    },
    {
      "cell_type": "markdown",
      "source": [
        "Загружаем данные полученый на этапе парсинга"
      ],
      "metadata": {
        "id": "5Zuu7g5h4ads"
      }
    },
    {
      "cell_type": "code",
      "source": [
        "df = pd.read_csv('df-3.csv')\n",
        "df = df.drop(columns='Unnamed: 0')"
      ],
      "metadata": {
        "id": "LxsYaNu_4Sz9"
      },
      "execution_count": 4,
      "outputs": []
    },
    {
      "cell_type": "markdown",
      "source": [
        "Посмотрим как выглядят данные\n",
        "\n",
        "\n",
        "> Видим что среди полученных данных много мусора. Так же заметно, что есть редко встречающиеся темы.\n",
        "\n"
      ],
      "metadata": {
        "id": "1AfJbIti4or8"
      }
    },
    {
      "cell_type": "code",
      "source": [
        "counts = df.groupby(df.iloc[:, 1]).size().reset_index(name='Количество строк')\n",
        "counts_sorted = counts.sort_values(by=counts.columns[1])\n",
        "counts_sorted"
      ],
      "metadata": {
        "colab": {
          "base_uri": "https://localhost:8080/",
          "height": 419
        },
        "id": "VapraVnE4nc2",
        "outputId": "353bd927-53f1-45dc-f1ca-cc95fb5c1b7c"
      },
      "execution_count": 5,
      "outputs": [
        {
          "output_type": "execute_result",
          "data": {
            "text/plain": [
              "                                       Theme  Количество строк\n",
              "164  Открытая олимпиада НОЦ ВолНЦ РАН — 2020                 1\n",
              "33       \\n6.75\\nСредняя: 6.8 (8 оценок)\\n\\n                 1\n",
              "34        \\n6.8\\nСредняя: 6.8 (5 оценок)\\n\\n                 1\n",
              "37            \\n7\\nСредняя: 7 (3 оценок)\\n\\n                 1\n",
              "38    \\n7.33333\\nСредняя: 7.3 (3 оценок)\\n\\n                 1\n",
              "..                                       ...               ...\n",
              "203                               математика                80\n",
              "211                    производитель и рынки               118\n",
              "53                                11-й класс               127\n",
              "0                   \\n0\\nГолосов еще нет\\n\\n               209\n",
              "205                           микроэкономика               335\n",
              "\n",
              "[218 rows x 2 columns]"
            ],
            "text/html": [
              "\n",
              "  <div id=\"df-ddaad510-39ba-4560-9e7a-e4a607c40d72\">\n",
              "    <div class=\"colab-df-container\">\n",
              "      <div>\n",
              "<style scoped>\n",
              "    .dataframe tbody tr th:only-of-type {\n",
              "        vertical-align: middle;\n",
              "    }\n",
              "\n",
              "    .dataframe tbody tr th {\n",
              "        vertical-align: top;\n",
              "    }\n",
              "\n",
              "    .dataframe thead th {\n",
              "        text-align: right;\n",
              "    }\n",
              "</style>\n",
              "<table border=\"1\" class=\"dataframe\">\n",
              "  <thead>\n",
              "    <tr style=\"text-align: right;\">\n",
              "      <th></th>\n",
              "      <th>Theme</th>\n",
              "      <th>Количество строк</th>\n",
              "    </tr>\n",
              "  </thead>\n",
              "  <tbody>\n",
              "    <tr>\n",
              "      <th>164</th>\n",
              "      <td>Открытая олимпиада НОЦ ВолНЦ РАН — 2020</td>\n",
              "      <td>1</td>\n",
              "    </tr>\n",
              "    <tr>\n",
              "      <th>33</th>\n",
              "      <td>\\n6.75\\nСредняя: 6.8 (8 оценок)\\n\\n</td>\n",
              "      <td>1</td>\n",
              "    </tr>\n",
              "    <tr>\n",
              "      <th>34</th>\n",
              "      <td>\\n6.8\\nСредняя: 6.8 (5 оценок)\\n\\n</td>\n",
              "      <td>1</td>\n",
              "    </tr>\n",
              "    <tr>\n",
              "      <th>37</th>\n",
              "      <td>\\n7\\nСредняя: 7 (3 оценок)\\n\\n</td>\n",
              "      <td>1</td>\n",
              "    </tr>\n",
              "    <tr>\n",
              "      <th>38</th>\n",
              "      <td>\\n7.33333\\nСредняя: 7.3 (3 оценок)\\n\\n</td>\n",
              "      <td>1</td>\n",
              "    </tr>\n",
              "    <tr>\n",
              "      <th>...</th>\n",
              "      <td>...</td>\n",
              "      <td>...</td>\n",
              "    </tr>\n",
              "    <tr>\n",
              "      <th>203</th>\n",
              "      <td>математика</td>\n",
              "      <td>80</td>\n",
              "    </tr>\n",
              "    <tr>\n",
              "      <th>211</th>\n",
              "      <td>производитель и рынки</td>\n",
              "      <td>118</td>\n",
              "    </tr>\n",
              "    <tr>\n",
              "      <th>53</th>\n",
              "      <td>11-й класс</td>\n",
              "      <td>127</td>\n",
              "    </tr>\n",
              "    <tr>\n",
              "      <th>0</th>\n",
              "      <td>\\n0\\nГолосов еще нет\\n\\n</td>\n",
              "      <td>209</td>\n",
              "    </tr>\n",
              "    <tr>\n",
              "      <th>205</th>\n",
              "      <td>микроэкономика</td>\n",
              "      <td>335</td>\n",
              "    </tr>\n",
              "  </tbody>\n",
              "</table>\n",
              "<p>218 rows × 2 columns</p>\n",
              "</div>\n",
              "      <button class=\"colab-df-convert\" onclick=\"convertToInteractive('df-ddaad510-39ba-4560-9e7a-e4a607c40d72')\"\n",
              "              title=\"Convert this dataframe to an interactive table.\"\n",
              "              style=\"display:none;\">\n",
              "        \n",
              "  <svg xmlns=\"http://www.w3.org/2000/svg\" height=\"24px\"viewBox=\"0 0 24 24\"\n",
              "       width=\"24px\">\n",
              "    <path d=\"M0 0h24v24H0V0z\" fill=\"none\"/>\n",
              "    <path d=\"M18.56 5.44l.94 2.06.94-2.06 2.06-.94-2.06-.94-.94-2.06-.94 2.06-2.06.94zm-11 1L8.5 8.5l.94-2.06 2.06-.94-2.06-.94L8.5 2.5l-.94 2.06-2.06.94zm10 10l.94 2.06.94-2.06 2.06-.94-2.06-.94-.94-2.06-.94 2.06-2.06.94z\"/><path d=\"M17.41 7.96l-1.37-1.37c-.4-.4-.92-.59-1.43-.59-.52 0-1.04.2-1.43.59L10.3 9.45l-7.72 7.72c-.78.78-.78 2.05 0 2.83L4 21.41c.39.39.9.59 1.41.59.51 0 1.02-.2 1.41-.59l7.78-7.78 2.81-2.81c.8-.78.8-2.07 0-2.86zM5.41 20L4 18.59l7.72-7.72 1.47 1.35L5.41 20z\"/>\n",
              "  </svg>\n",
              "      </button>\n",
              "      \n",
              "  <style>\n",
              "    .colab-df-container {\n",
              "      display:flex;\n",
              "      flex-wrap:wrap;\n",
              "      gap: 12px;\n",
              "    }\n",
              "\n",
              "    .colab-df-convert {\n",
              "      background-color: #E8F0FE;\n",
              "      border: none;\n",
              "      border-radius: 50%;\n",
              "      cursor: pointer;\n",
              "      display: none;\n",
              "      fill: #1967D2;\n",
              "      height: 32px;\n",
              "      padding: 0 0 0 0;\n",
              "      width: 32px;\n",
              "    }\n",
              "\n",
              "    .colab-df-convert:hover {\n",
              "      background-color: #E2EBFA;\n",
              "      box-shadow: 0px 1px 2px rgba(60, 64, 67, 0.3), 0px 1px 3px 1px rgba(60, 64, 67, 0.15);\n",
              "      fill: #174EA6;\n",
              "    }\n",
              "\n",
              "    [theme=dark] .colab-df-convert {\n",
              "      background-color: #3B4455;\n",
              "      fill: #D2E3FC;\n",
              "    }\n",
              "\n",
              "    [theme=dark] .colab-df-convert:hover {\n",
              "      background-color: #434B5C;\n",
              "      box-shadow: 0px 1px 3px 1px rgba(0, 0, 0, 0.15);\n",
              "      filter: drop-shadow(0px 1px 2px rgba(0, 0, 0, 0.3));\n",
              "      fill: #FFFFFF;\n",
              "    }\n",
              "  </style>\n",
              "\n",
              "      <script>\n",
              "        const buttonEl =\n",
              "          document.querySelector('#df-ddaad510-39ba-4560-9e7a-e4a607c40d72 button.colab-df-convert');\n",
              "        buttonEl.style.display =\n",
              "          google.colab.kernel.accessAllowed ? 'block' : 'none';\n",
              "\n",
              "        async function convertToInteractive(key) {\n",
              "          const element = document.querySelector('#df-ddaad510-39ba-4560-9e7a-e4a607c40d72');\n",
              "          const dataTable =\n",
              "            await google.colab.kernel.invokeFunction('convertToInteractive',\n",
              "                                                     [key], {});\n",
              "          if (!dataTable) return;\n",
              "\n",
              "          const docLinkHtml = 'Like what you see? Visit the ' +\n",
              "            '<a target=\"_blank\" href=https://colab.research.google.com/notebooks/data_table.ipynb>data table notebook</a>'\n",
              "            + ' to learn more about interactive tables.';\n",
              "          element.innerHTML = '';\n",
              "          dataTable['output_type'] = 'display_data';\n",
              "          await google.colab.output.renderOutput(dataTable, element);\n",
              "          const docLink = document.createElement('div');\n",
              "          docLink.innerHTML = docLinkHtml;\n",
              "          element.appendChild(docLink);\n",
              "        }\n",
              "      </script>\n",
              "    </div>\n",
              "  </div>\n",
              "  "
            ]
          },
          "metadata": {},
          "execution_count": 5
        }
      ]
    },
    {
      "cell_type": "markdown",
      "source": [
        "Уберем темы котрые не темы, пропуски и редко встречающиеся темы"
      ],
      "metadata": {
        "id": "Yoob3cRZ5n0m"
      }
    },
    {
      "cell_type": "code",
      "source": [
        "theme = pd.read_excel('theme.xlsx')\n",
        "\n",
        "df = df[df['Theme'].isin(list(theme.theme))]\n",
        "value_counts = df.iloc[:, 1].value_counts()\n",
        "df = df[df.iloc[:, 1].isin(value_counts[value_counts > 9].index)]\n",
        "df.dropna(inplace=True)"
      ],
      "metadata": {
        "id": "JabzNr_15eKC"
      },
      "execution_count": 7,
      "outputs": []
    },
    {
      "cell_type": "markdown",
      "source": [
        "Посмотрим на диаграмме что у нас получилось"
      ],
      "metadata": {
        "id": "PEMgj2spg_qR"
      }
    },
    {
      "cell_type": "code",
      "source": [
        "counts = df.groupby(df.iloc[:, 1]).size()\n",
        "\n",
        "plt.bar(counts.index, counts.values)\n",
        "plt.xlabel('Значения во втором столбце')\n",
        "plt.ylabel('Количество строк')\n",
        "plt.title('График количества строк по значениям во втором столбце')\n",
        "plt.show()"
      ],
      "metadata": {
        "colab": {
          "base_uri": "https://localhost:8080/",
          "height": 472
        },
        "id": "jfKmqF3mg6VV",
        "outputId": "3a3fd3ad-dc73-47db-f85a-2d0529d8d9c1"
      },
      "execution_count": 11,
      "outputs": [
        {
          "output_type": "display_data",
          "data": {
            "text/plain": [
              "<Figure size 640x480 with 1 Axes>"
            ],
            "image/png": "[encoded data removed]"
          },
          "metadata": {}
        }
      ]
    },
    {
      "cell_type": "markdown",
      "source": [
        "Займемся энкодингом:\n",
        "\n",
        "*   Для тем мы проведем лейбл-кодирование\n",
        "*   Разобъём на тест/трейн\n",
        "*   Векторизируем тексты"
      ],
      "metadata": {
        "id": "i-DPn3Et59eW"
      }
    },
    {
      "cell_type": "code",
      "source": [
        "label_encoder = LabelEncoder()\n",
        "\n",
        "df['Theme'] = label_encoder.fit_transform(df['Theme'])"
      ],
      "metadata": {
        "id": "I0mOv6nQ52Bx"
      },
      "execution_count": 8,
      "outputs": []
    },
    {
      "cell_type": "code",
      "source": [
        "train, test = train_test_split(df, test_size=0.3, random_state=42)\n",
        "\n",
        "X_train = train.iloc[:,0]\n",
        "X_test = test.iloc[:,0]\n",
        "y_train = train.iloc[:,1:-1]\n",
        "y_test = test.iloc[:,1:-1]"
      ],
      "metadata": {
        "id": "SHbzgkh86X3X"
      },
      "execution_count": 9,
      "outputs": []
    },
    {
      "cell_type": "code",
      "source": [
        "vectorizer = CountVectorizer(tokenizer=TweetTokenizer().tokenize, analyzer='word')\n",
        "\n",
        "X = df.iloc[:,0]\n",
        "y = df.iloc[:,1:]\n",
        "\n",
        "X = vectorizer.fit_transform(X)\n",
        "\n",
        "X_train, X_test = train_test_split(X, test_size=0.3, random_state=42)\n",
        "y_train, y_test = train_test_split(y, test_size=0.3, random_state=42)"
      ],
      "metadata": {
        "colab": {
          "base_uri": "https://localhost:8080/"
        },
        "id": "gcW1OwiH6eGY",
        "outputId": "5b2731c4-de16-44a1-e259-1da774680f6d"
      },
      "execution_count": 10,
      "outputs": [
        {
          "output_type": "stream",
          "name": "stderr",
          "text": [
            "/usr/local/lib/python3.10/dist-packages/sklearn/feature_extraction/text.py:528: UserWarning: The parameter 'token_pattern' will not be used since 'tokenizer' is not None'\n",
            "  warnings.warn(\n"
          ]
        }
      ]
    },
    {
      "cell_type": "markdown",
      "source": [
        "# Реализация модели"
      ],
      "metadata": {
        "id": "jH5T5rY87oZP"
      }
    },
    {
      "cell_type": "markdown",
      "source": [
        "Будем использовать модель кэтбуст от яндекса и переберем гиперпараметры с помощью гридсерч\n",
        "\n",
        "\n",
        "> Перебор показал наилучшие результаты при гиперпараметрах: {'depth': 8, 'iterations': 200, 'learning_rate': 0.1}\n",
        "\n"
      ],
      "metadata": {
        "id": "smCuLzaFDouh"
      }
    },
    {
      "cell_type": "code",
      "source": [
        "model = CatBoostClassifier()\n",
        "\n",
        "param_grid = {\n",
        "    'iterations': [100, 200, 300],\n",
        "    'learning_rate': [0.1, 0.01, 0.001],\n",
        "    'depth': [4, 6, 8],\n",
        "    'loss_function': ['MultiClass']\n",
        "}\n",
        "\n",
        "grid_search = GridSearchCV(estimator=model, param_grid=param_grid, cv=3)\n",
        "\n",
        "grid_search.fit(X_train, y_train)\n",
        "\n",
        "print(\"Наилучшие значения гиперпараметров: \", grid_search.best_params_)\n",
        "print(\"Оценка наилучшей модели: \", grid_search.best_score_)"
      ],
      "metadata": {
        "id": "qAH0_EOq7vRJ"
      },
      "execution_count": null,
      "outputs": []
    },
    {
      "cell_type": "code",
      "source": [
        "from sklearn.metrics import accuracy_score, precision_score, recall_score, f1_score, classification_report\n",
        "\n",
        "y_pred = model.predict(X_test)\n",
        "\n",
        "# Вычисление метрик качества\n",
        "accuracy = accuracy_score(y_test, y_pred)\n",
        "precision = precision_score(y_test, y_pred, average='macro')\n",
        "recall = recall_score(y_test, y_pred, average='macro')\n",
        "f1 = f1_score(y_test, y_pred, average='macro')\n",
        "\n",
        "# Вывод метрик качества\n",
        "print(\"Accuracy:\", accuracy)\n",
        "print(\"Precision:\", precision)\n",
        "print(\"Recall:\", recall)\n",
        "print(\"F1-score:\", f1)\n",
        "\n",
        "# Вывод отчета по классификации\n",
        "classification_rep = classification_report(y_test, y_pred)\n",
        "print(\"Classification Report:\\n\", classification_rep)"
      ],
      "metadata": {
        "id": "EYR3_JN074uH"
      },
      "execution_count": null,
      "outputs": []
    },
    {
      "cell_type": "markdown",
      "source": [
        "# Проверки гипотез"
      ],
      "metadata": {
        "id": "_GC9Ng0zcOSy"
      }
    },
    {
      "cell_type": "markdown",
      "source": [
        "Существует стереотип, что задачи по макроэкономике в олимпиатках как правило качественные, в то время как микра больше количественная. На превый взгляд кажется неплохой идеей проверить: а в каком типе задач в среднем больше слов? (типа в качественных обыно много текста) Потом ещё может появиться мысль проверить обратное: являются ли задачи в микро более качественные чем макро?\n",
        "Для этого:\n",
        "\n",
        "\n",
        "1.   Проверим гипотезу о том что в среднем кол-во слов в макро больше чем в микро\n",
        "2.   Проверим гипотезу о том что в среднем в микро цифры встречаются чаще чем в макро\n",
        "\n"
      ],
      "metadata": {
        "id": "Te2U1qaBcWbG"
      }
    },
    {
      "cell_type": "code",
      "source": [
        "df = pd.read_csv('df-3.csv')\n",
        "df = df.drop(columns='Unnamed: 0')\n",
        "df = df[df['Theme'].isin(list(theme.theme))]\n",
        "value_counts = df.iloc[:, 1].value_counts()\n",
        "df = df[df.iloc[:, 1].isin(value_counts[value_counts > 9].index)]\n",
        "df.dropna(inplace=True)"
      ],
      "metadata": {
        "id": "qryDuFPnhMsf"
      },
      "execution_count": 13,
      "outputs": []
    },
    {
      "cell_type": "code",
      "source": [
        "texts_macro = df[df['Theme'] == 'макроэкономика']['Task']\n",
        "texts_micro = df[df['Theme'] == 'микроэкономика']['Task']\n",
        "\n",
        "word_count_macro = texts_macro.apply(lambda x: len(x.split()))\n",
        "word_count_micro = texts_micro.apply(lambda x: len(x.split()))\n",
        "\n",
        "statistic, p_value = mannwhitneyu(word_count_macro, word_count_micro, alternative='greater')\n",
        "\n",
        "alpha = 0.05\n",
        "if p_value < alpha:\n",
        "    print(\"Отвергаем нулевую гипотезу: в текстах с признаком 'макроэкономика' больше слов, чем в текстах с признаком 'микроэкономика'\")\n",
        "else:\n",
        "    print(\"Не получаем достаточных доказательств для отвержения нулевой гипотезы\")"
      ],
      "metadata": {
        "colab": {
          "base_uri": "https://localhost:8080/"
        },
        "id": "9K11xKCJcS7E",
        "outputId": "ca4eaea1-30a1-4db2-d4c3-c96e27e7f8a0"
      },
      "execution_count": 16,
      "outputs": [
        {
          "output_type": "stream",
          "name": "stdout",
          "text": [
            "Не получаем достаточных доказательств для отвержения нулевой гипотезы\n"
          ]
        }
      ]
    },
    {
      "cell_type": "code",
      "source": [
        "digit_count_macro = texts_macro.apply(lambda x: sum(char.isdigit() for char in x))\n",
        "digit_count_micro = texts_micro.apply(lambda x: sum(char.isdigit() for char in x))\n",
        "\n",
        "statistic, p_value = ttest_ind(digit_count_macro, digit_count_micro)\n",
        "\n",
        "if p_value < alpha:\n",
        "    print(\"Отвергаем нулевую гипотезу: в текстах с признаком 'макроэкономика' в среднем цифр меньше, чем в текстах с признаком 'микроэкономика'\")\n",
        "else:\n",
        "    print(\"Не получаем достаточных доказательств для отвержения нулевой гипотезы\")"
      ],
      "metadata": {
        "colab": {
          "base_uri": "https://localhost:8080/"
        },
        "id": "Z6flebvLdKLX",
        "outputId": "3110c493-19d4-4bce-b3e6-eb6e2359884f"
      },
      "execution_count": 17,
      "outputs": [
        {
          "output_type": "stream",
          "name": "stdout",
          "text": [
            "Отвергаем нулевую гипотезу: в текстах с признаком 'макроэкономика' в среднем цифр меньше, чем в текстах с признаком 'микроэкономика'\n"
          ]
        }
      ]
    }
  ]
}