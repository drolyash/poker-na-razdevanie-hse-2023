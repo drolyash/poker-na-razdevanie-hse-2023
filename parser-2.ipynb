{
  "nbformat": 4,
  "nbformat_minor": 0,
  "metadata": {
    "colab": {
      "provenance": []
    },
    "kernelspec": {
      "name": "python3",
      "display_name": "Python 3"
    },
    "language_info": {
      "name": "python"
    }
  },
  "cells": [
    {
      "cell_type": "markdown",
      "source": [
        "\n",
        "## **Парсим сайт**\n",
        "1.   Перебираем ссылки, ищем рабочие\n",
        "2.   Из рабочих ссылок достаём текст задачи и темы задачи\n",
        "3.   Приводим в нормальный вид полученные данные"
      ],
      "metadata": {
        "id": "sgweMxwo1xfQ"
      }
    },
    {
      "cell_type": "code",
      "execution_count": 1,
      "metadata": {
        "id": "Enf411P-1qfI"
      },
      "outputs": [],
      "source": [
        "import requests\n",
        "from bs4 import BeautifulSoup\n",
        "import pandas as pd\n",
        "import re\n",
        "import requests"
      ]
    },
    {
      "cell_type": "markdown",
      "source": [
        "Создаем файл с работающими ссылками"
      ],
      "metadata": {
        "id": "4AaBsX6t2Hi9"
      }
    },
    {
      "cell_type": "code",
      "source": [
        "working_links = []\n",
        "\n",
        "for num in range(0000, 8000):\n",
        "\n",
        "    url = f\"https://www.iloveeconomics.ru/z/{num:04d}\"\n",
        "    response = requests.get(url)\n",
        "\n",
        "    if response.status_code == 200:\n",
        "            working_links.append(url)\n",
        "\n",
        "    print(f\"Processed: {num}, Working Links: {len(working_links)}\", end=\"\\r\")\n",
        "\n",
        "with open(\"url_list.txt\", \"w\") as file:\n",
        "    for link in working_links:\n",
        "        file.write(str(link) + \"\\n\")"
      ],
      "metadata": {
        "id": "NK0gMEGe1-z8"
      },
      "execution_count": null,
      "outputs": []
    },
    {
      "cell_type": "markdown",
      "source": [
        "Используя файл с ссылками парсим текст задачи и тему"
      ],
      "metadata": {
        "id": "MSNhIt9t2ccy"
      }
    },
    {
      "cell_type": "code",
      "source": [
        "with open('url_list.txt', \"r\") as file:\n",
        "    lines = file.readlines()\n",
        "lines = [line.strip() for line in lines]\n",
        "\n",
        "df = pd.DataFrame(columns=[\"Task\", \"Theme\"])\n",
        "\n",
        "for url in lines:\n",
        "\n",
        "    response = requests.get(url)\n",
        "\n",
        "    if response.status_code == 200:\n",
        "        soup = BeautifulSoup(response.content, \"html.parser\")\n",
        "\n",
        "        task_items = soup.find_all(class_=\"fix_width\")\n",
        "\n",
        "        if task_items:\n",
        "            tasks = []\n",
        "            themes = []\n",
        "\n",
        "            for task_item in task_items:\n",
        "                task_text = task_item.find(class_=\"tex2jax\")\n",
        "                tasks.append(task_text)\n",
        "\n",
        "                theme_text = task_item.find(class_=\"field-item even\")\n",
        "                themes.append(theme_text)\n",
        "\n",
        "            temp_df = pd.DataFrame({\"Task\": tasks, \"Theme\": themes})\n",
        "\n",
        "            df = pd.concat([df, temp_df], ignore_index=True)\n",
        "\n",
        "df.dropna(inplace=True)\n",
        "df.reset_index(drop= True , inplace= True)"
      ],
      "metadata": {
        "id": "3hYNEWyM2nxD"
      },
      "execution_count": 2,
      "outputs": []
    },
    {
      "cell_type": "markdown",
      "source": [
        "приводим полученые данные в читаемый вид, удаляем лишние символы"
      ],
      "metadata": {
        "id": "UEpyrHB13Iel"
      }
    },
    {
      "cell_type": "code",
      "source": [
        "df.Task = df.Task.astype('str')\n",
        "df.Theme = df.Theme.astype('str')\n",
        "\n",
        "df[\"Task\"] = df[\"Task\"].apply(lambda x: re.sub(r\"<.*?>\", \"\", x))\n",
        "df[\"Theme\"] = df[\"Theme\"].apply(lambda x: re.sub(r\"<.*?>\", \"\", x))\n",
        "df[\"Task\"] = df[\"Task\"].apply(lambda x: x.replace(\"\\n\", \"\").replace(\"\\r\", \"\"))"
      ],
      "metadata": {
        "id": "Abf-BUO6288-"
      },
      "execution_count": 3,
      "outputs": []
    },
    {
      "cell_type": "code",
      "source": [
        "df.to_csv('df.csv') # качаем файл с данными"
      ],
      "metadata": {
        "id": "YPRIl_e33TgH"
      },
      "execution_count": 4,
      "outputs": []
    }
  ]
}